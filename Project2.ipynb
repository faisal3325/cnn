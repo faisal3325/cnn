{
  "nbformat": 4,
  "nbformat_minor": 0,
  "metadata": {
    "colab": {
      "name": "Project2.ipynb",
      "provenance": [],
      "collapsed_sections": [
        "0Xw2FciMOXQ9"
      ],
      "include_colab_link": true
    },
    "kernelspec": {
      "name": "python3",
      "display_name": "Python 3"
    }
  },
  "cells": [
    {
      "cell_type": "markdown",
      "metadata": {
        "id": "view-in-github",
        "colab_type": "text"
      },
      "source": [
        "<a href=\"https://colab.research.google.com/github/faisal3325/cnn/blob/master/Project2.ipynb\" target=\"_parent\"><img src=\"https://colab.research.google.com/assets/colab-badge.svg\" alt=\"Open In Colab\"/></a>"
      ]
    },
    {
      "cell_type": "markdown",
      "metadata": {
        "id": "yQhO9T0SLyQ2",
        "colab_type": "text"
      },
      "source": [
        "# Individual Project\n",
        "# Practical Project (Convolutional Neural Networks)          Artificial Intelligence 1                                        Marks=40\n",
        "           \n",
        "This project is partially based on an assignment developed by Prof. Jonathan Rose and Harris Chan.\n",
        "\n",
        "In this project, you will train a convolutional neural network to classify an image into one of two classes: \"cat\" or \"dog\". The code for the neural networks you train will be written for you, and you are not (yet!) expected to understand all provided code. However, by the end of the project, you should be able to:\n",
        "\n",
        "1. Understand at a high level the training loop for a machine learning model.\n",
        "2. Understand the distinction between training, validation, and test data.\n",
        "3. The concepts of overfitting and underfitting.\n",
        "4. Investigate how different hyperparameters, such as learning rate and batch size, affect the success of training."
      ]
    },
    {
      "cell_type": "markdown",
      "metadata": {
        "id": "O02bdsYKf_Ho",
        "colab_type": "text"
      },
      "source": [
        "# Do not panic, Enjoy Deep Leaning :-)"
      ]
    },
    {
      "cell_type": "markdown",
      "metadata": {
        "id": "UkSgWRZgNOTG",
        "colab_type": "text"
      },
      "source": [
        "# Submission Instructions (precise and complete write-up)\n",
        "\n",
        "Submit a PDF file containing all your code, outputs, and write-up from parts 1-4. You can produce a PDF of your Google Colab file by going to File > Print and then save as PDF. The Colab instructions has more information.\n",
        "\n",
        "Do not submit any other files produced by your code.\n",
        "\n",
        "Include a link to your colab file in your submission.\n",
        "\n",
        "Please use Google Colab to complete this assignment. If you want to use Jupyter Notebook, please complete the assignment and upload your Jupyter Notebook file to Google Colab for submission.\n",
        "\n",
        "With Colab, you can export a PDF file using the menu option File -> Print and save as PDF file.\n",
        "\n",
        "Only PDF file will be evaluated.\n",
        "\n",
        "NOTE- Use Text cells wherever explaination is required. You can insert images by using the following code in code cell:\n",
        "\n",
        "from google.colab import files\n",
        "\n",
        "uploaded = files.upload()\n",
        "\n",
        "from IPython.display import Image \n",
        "\n",
        "Image('NN.png',  width=800, height=500)"
      ]
    },
    {
      "cell_type": "markdown",
      "metadata": {
        "id": "pUMvSHDjNr0W",
        "colab_type": "text"
      },
      "source": [
        "# Colab Link (Compulsory for Evaluation) I would not evaluate project without Colab link. Include here.\n",
        "\n",
        "Colab Link:\n",
        "\n",
        "Include a link to your colab file here\n",
        "\n"
      ]
    },
    {
      "cell_type": "code",
      "metadata": {
        "id": "VcGAe0gGOGGx",
        "colab_type": "code",
        "colab": {}
      },
      "source": [
        "import numpy as np\n",
        "import time\n",
        "import torch\n",
        "import torch.nn as nn\n",
        "import torch.nn.functional as F\n",
        "import torch.optim as optim\n",
        "import torchvision\n",
        "from torch.utils.data.sampler import SubsetRandomSampler\n",
        "import torchvision.transforms as transforms"
      ],
      "execution_count": 0,
      "outputs": []
    },
    {
      "cell_type": "markdown",
      "metadata": {
        "id": "0Xw2FciMOXQ9",
        "colab_type": "text"
      },
      "source": [
        "# Part 0. Helper Functions\n",
        "We will be making use of the following helper functions. You will be asked to look at and possibly modify some of these, but you are not expected to understand all of them.\n",
        "\n",
        "You should look at the function names and read the docstrings. If you are curious, come back and explore the code after making some progress on the project."
      ]
    },
    {
      "cell_type": "code",
      "metadata": {
        "id": "Rw_xMjpHO2jo",
        "colab_type": "code",
        "colab": {}
      },
      "source": [
        "###############################################################################\n",
        "# Data Loading\n",
        "\n",
        "def get_relevant_indices(dataset, classes, target_classes):\n",
        "    \"\"\" Return the indices for datapoints in the dataset that belongs to the\n",
        "    desired target classes, a subset of all possible classes.\n",
        "\n",
        "    Args:\n",
        "        dataset: Dataset object\n",
        "        classes: A list of strings denoting the name of each class\n",
        "        target_classes: A list of strings denoting the name of desired classes\n",
        "                        Should be a subset of the 'classes'\n",
        "    Returns:\n",
        "        indices: list of indices that have labels corresponding to one of the\n",
        "                 target classes\n",
        "    \"\"\"\n",
        "    indices = []\n",
        "    for i in range(len(dataset)):\n",
        "        # Check if the label is in the target classes\n",
        "        label_index = dataset[i][1] # ex: 3\n",
        "        label_class = classes[label_index] # ex: 'cat'\n",
        "        if label_class in target_classes:\n",
        "            indices.append(i)\n",
        "    return indices\n",
        "\n",
        "def get_data_loader(target_classes, batch_size):\n",
        "    \"\"\" Returns the indices for datapoints in the dataset that\n",
        "    belongs to the desired target classes, a subset of all possible classes.\n",
        "\n",
        "    Args:\n",
        "        dataset: Dataset object\n",
        "        classes: A list of strings denoting the name of each class\n",
        "        target_classes: A list of strings denoting the name of the desired\n",
        "                        classes. Should be a subset of the argument 'classes'\n",
        "    Returns:\n",
        "        indices: list of indices that have labels corresponding to one of the\n",
        "                 target classes\n",
        "    \"\"\"\n",
        "    classes = ('plane', 'car', 'bird', 'cat',\n",
        "               'deer', 'dog', 'frog', 'horse', 'ship', 'truck')\n",
        "    ########################################################################\n",
        "    # The output of torchvision datasets are PILImage images of range [0, 1].\n",
        "    # We transform them to Tensors of normalized range [-1, 1].\n",
        "    transform = transforms.Compose(\n",
        "        [transforms.ToTensor(),\n",
        "         transforms.Normalize((0.5, 0.5, 0.5), (0.5, 0.5, 0.5))])\n",
        "    trainset = torchvision.datasets.CIFAR10(root='./data', train=True,\n",
        "                                            download=True, transform=transform)\n",
        "    # Get the list of indices to sample from\n",
        "    relevant_train_indices = get_relevant_indices(\n",
        "            trainset,\n",
        "            classes,\n",
        "            target_classes)\n",
        "    # Split into train and validation\n",
        "    np.random.seed(1000) # Fixed numpy random seed for reproducible shuffling\n",
        "    np.random.shuffle(relevant_train_indices)\n",
        "    split = int(len(relevant_train_indices) * 0.8)\n",
        "    relevant_train_indices, relevant_val_indices = relevant_train_indices[:split], relevant_train_indices[split:]\n",
        "    train_sampler = SubsetRandomSampler(relevant_train_indices)\n",
        "    train_loader = torch.utils.data.DataLoader(trainset, batch_size=batch_size,\n",
        "                                               num_workers=1, sampler=train_sampler)\n",
        "    val_sampler = SubsetRandomSampler(relevant_val_indices)\n",
        "    val_loader = torch.utils.data.DataLoader(trainset, batch_size=batch_size,\n",
        "                                              num_workers=1, sampler=val_sampler)\n",
        "    testset = torchvision.datasets.CIFAR10(root='./data', train=False,\n",
        "                                           download=True, transform=transform)\n",
        "    relevant_test_indices = get_relevant_indices(testset, classes, target_classes)\n",
        "    test_sampler = SubsetRandomSampler(relevant_test_indices)\n",
        "    test_loader = torch.utils.data.DataLoader(testset, batch_size=batch_size,\n",
        "                                             num_workers=1, sampler=test_sampler)\n",
        "    return train_loader, val_loader, test_loader, classes\n",
        "\n",
        "###############################################################################\n",
        "# Training\n",
        "def get_model_name(name, batch_size, learning_rate, epoch):\n",
        "    \"\"\" Generate a name for the model consisting of all the hyperparameter values\n",
        "\n",
        "    Args:\n",
        "        config: Configuration object containing the hyperparameters\n",
        "    Returns:\n",
        "        path: A string with the hyperparameter name and value concatenated\n",
        "    \"\"\"\n",
        "    path = \"model_{0}_bs{1}_lr{2}_epoch{3}\".format(name,\n",
        "                                                   batch_size,\n",
        "                                                   learning_rate,\n",
        "                                                   epoch)\n",
        "    return path\n",
        "\n",
        "def normalize_label(labels):\n",
        "    \"\"\"\n",
        "    Given a tensor containing 2 possible values, normalize this to 0/1\n",
        "\n",
        "    Args:\n",
        "        labels: a 1D tensor containing two possible scalar values\n",
        "    Returns:\n",
        "        A tensor normalize to 0/1 value\n",
        "    \"\"\"\n",
        "    max_val = torch.max(labels)\n",
        "    min_val = torch.min(labels)\n",
        "    norm_labels = (labels - min_val)/(max_val - min_val)\n",
        "    return norm_labels\n",
        "\n",
        "def evaluate(net, loader, criterion):\n",
        "    \"\"\" Evaluate the network on the validation set.\n",
        "\n",
        "     Args:\n",
        "         net: PyTorch neural network object\n",
        "         loader: PyTorch data loader for the validation set\n",
        "         criterion: The loss function\n",
        "     Returns:\n",
        "         err: A scalar for the avg classification error over the validation set\n",
        "         loss: A scalar for the average loss function over the validation set\n",
        "     \"\"\"\n",
        "    total_loss = 0.0\n",
        "    total_err = 0.0\n",
        "    total_epoch = 0\n",
        "    for i, data in enumerate(loader, 0):\n",
        "        inputs, labels = data\n",
        "        labels = normalize_label(labels)  # Convert labels to 0/1\n",
        "        outputs = net(inputs)\n",
        "        loss = criterion(outputs, labels.float())\n",
        "        corr = (outputs > 0.0).squeeze().long() != labels\n",
        "        total_err += int(corr.sum())\n",
        "        total_loss += loss.item()\n",
        "        total_epoch += len(labels)\n",
        "    err = float(total_err) / total_epoch\n",
        "    loss = float(total_loss) / (i + 1)\n",
        "    return err, loss\n",
        "\n",
        "###############################################################################\n",
        "# Training Curve\n",
        "def plot_training_curve(path):\n",
        "    \"\"\" Plots the training curve for a model run, given the csv files\n",
        "    containing the train/validation error/loss.\n",
        "\n",
        "    Args:\n",
        "        path: The base path of the csv files produced during training\n",
        "    \"\"\"\n",
        "    import matplotlib.pyplot as plt\n",
        "    train_err = np.loadtxt(\"{}_train_err.csv\".format(path))\n",
        "    val_err = np.loadtxt(\"{}_val_err.csv\".format(path))\n",
        "    train_loss = np.loadtxt(\"{}_train_loss.csv\".format(path))\n",
        "    val_loss = np.loadtxt(\"{}_val_loss.csv\".format(path))\n",
        "    plt.title(\"Train vs Validation Error\")\n",
        "    n = len(train_err) # number of epochs\n",
        "    plt.plot(range(1,n+1), train_err, label=\"Train\")\n",
        "    plt.plot(range(1,n+1), val_err, label=\"Validation\")\n",
        "    plt.xlabel(\"Epoch\")\n",
        "    plt.ylabel(\"Error\")\n",
        "    plt.legend(loc='best')\n",
        "    plt.show()\n",
        "    plt.title(\"Train vs Validation Loss\")\n",
        "    plt.plot(range(1,n+1), train_loss, label=\"Train\")\n",
        "    plt.plot(range(1,n+1), val_loss, label=\"Validation\")\n",
        "    plt.xlabel(\"Epoch\")\n",
        "    plt.ylabel(\"Loss\")\n",
        "    plt.legend(loc='best')\n",
        "    plt.show()"
      ],
      "execution_count": 0,
      "outputs": []
    },
    {
      "cell_type": "markdown",
      "metadata": {
        "id": "mmcS5cQXPI9O",
        "colab_type": "text"
      },
      "source": [
        "# Part 1. Visualizing the Data [7 pt]\n",
        "\n",
        "We will make use of some of the CIFAR-10 data set, which consists of colour images of size 32x32 pixels belonging to 10 categories. You can find out more about the dataset at https://www.cs.toronto.edu/~kriz/cifar.html\n",
        "\n",
        "For this assignment, we will only be using the cat and dog categories. We have included code that automatically downloads the dataset the first time that the main script is run."
      ]
    },
    {
      "cell_type": "code",
      "metadata": {
        "id": "MUK2dS5yPVLp",
        "colab_type": "code",
        "outputId": "11310e78-a4d5-40fd-80e2-826cfcc08071",
        "colab": {
          "base_uri": "https://localhost:8080/",
          "height": 50
        }
      },
      "source": [
        "# This will download the CIFAR-10 dataset to a folder called \"data\"\n",
        "# the first time you run this code.\n",
        "train_loader, val_loader, test_loader, classes = get_data_loader(\n",
        "    target_classes=[\"cat\", \"dog\"], \n",
        "    batch_size=1) # One image per batch"
      ],
      "execution_count": 0,
      "outputs": [
        {
          "output_type": "stream",
          "text": [
            "Files already downloaded and verified\n",
            "Files already downloaded and verified\n"
          ],
          "name": "stdout"
        }
      ]
    },
    {
      "cell_type": "markdown",
      "metadata": {
        "id": "MAE6QliCPmEf",
        "colab_type": "text"
      },
      "source": [
        "# Part (a) -- 1 pt\n",
        "Visualize some of the data by running the code below. Include the visualization in your writeup.\n",
        "\n",
        "(You don't need to submit anything else.)"
      ]
    },
    {
      "cell_type": "code",
      "metadata": {
        "id": "GQvGTNKkPrTq",
        "colab_type": "code",
        "outputId": "a6f5634d-b4db-4a02-8b00-5a986d5482f7",
        "colab": {
          "base_uri": "https://localhost:8080/",
          "height": 262
        }
      },
      "source": [
        "import matplotlib.pyplot as plt\n",
        "\n",
        "k = 0\n",
        "for images, labels in train_loader:\n",
        "    # since batch_size = 1, there is only 1 image in `images`\n",
        "    image = images[0]\n",
        "    # place the colour channel at the end, instead of at the beginning\n",
        "    img = np.transpose(image, [1,2,0])\n",
        "    # normalize pixel intensity values to [0, 1]\n",
        "    img = img / 2 + 0.5\n",
        "    plt.subplot(3, 5, k+1)\n",
        "    plt.axis('off')\n",
        "    plt.imshow(img)\n",
        "\n",
        "    k += 1\n",
        "    if k > 14:\n",
        "        break"
      ],
      "execution_count": 0,
      "outputs": [
        {
          "output_type": "display_data",
          "data": {
            "image/png": "[encoded data removed]",
            "text/plain": [
              "<Figure size 432x288 with 15 Axes>"
            ]
          },
          "metadata": {
            "tags": []
          }
        }
      ]
    },
    {
      "cell_type": "markdown",
      "metadata": {
        "id": "BU8XGcmoftyH",
        "colab_type": "text"
      },
      "source": [
        ""
      ]
    },
    {
      "cell_type": "markdown",
      "metadata": {
        "id": "Igx6VpK8QBWH",
        "colab_type": "text"
      },
      "source": [
        "# Part (b) -- 3 pt\n",
        "How many training examples do we have for the combined cat and dog classes? What about validation examples? What about test examples? (insert text cell to answer it)"
      ]
    },
    {
      "cell_type": "code",
      "metadata": {
        "id": "rh_yuhEF_YBU",
        "colab_type": "code",
        "outputId": "e2473c27-96ac-4abe-feb9-e96b1466fe20",
        "colab": {
          "base_uri": "https://localhost:8080/",
          "height": 67
        }
      },
      "source": [
        "total_train = len(train_loader)\n",
        "print('Total training examples: ', total_train)\n",
        "\n",
        "total_validation = len(val_loader)\n",
        "print('Total validation examples: ', total_validation)\n",
        "\n",
        "total_test = len(test_loader)\n",
        "print('Total testing examples: ', total_test)"
      ],
      "execution_count": 0,
      "outputs": [
        {
          "output_type": "stream",
          "text": [
            "Total training examples:  8000\n",
            "Total validation examples:  2000\n",
            "Total testing examples:  2000\n"
          ],
          "name": "stdout"
        }
      ]
    },
    {
      "cell_type": "markdown",
      "metadata": {
        "id": "z3EFciC-O9Er",
        "colab_type": "text"
      },
      "source": [
        "## **Answer**\n",
        "\n",
        "So we have total 12,000 samples of both cat and dog classes out of which **8000** is for training; **2000** for validating our model; and **2000** for testing.\n",
        "\n"
      ]
    },
    {
      "cell_type": "markdown",
      "metadata": {
        "id": "TbimU-u6QuxP",
        "colab_type": "text"
      },
      "source": [
        "# Part (c) -- 3pt\n",
        "Why do we need a validation set when training our model? What happens if we judge the performance of our models using the training set loss/error instead of the validation set loss/error? (insert text cell to answer it)"
      ]
    },
    {
      "cell_type": "markdown",
      "metadata": {
        "id": "RIt7ojbkfrV3",
        "colab_type": "text"
      },
      "source": [
        "## **Answer**\n",
        "\n",
        "If we test our model with the training set, it would give us 100% accuracy and 0% error as we have used the same data to train our model. The features of the train data are well understood by the neural network."
      ]
    },
    {
      "cell_type": "markdown",
      "metadata": {
        "id": "2-XX_dW7RIhW",
        "colab_type": "text"
      },
      "source": [
        "# Part 2. Training [15 pt]\n",
        "We define two neural networks, a LargeNet and SmallNet. We'll be training the networks in this section.\n",
        "\n",
        "You won't understand fully what these networks are doing until the next few classes, and that's okay. For this assignment, please focus on learning how to train networks, and how hyperparameters affect training."
      ]
    },
    {
      "cell_type": "code",
      "metadata": {
        "id": "cj9qUWKjRMat",
        "colab_type": "code",
        "colab": {}
      },
      "source": [
        "class LargeNet(nn.Module):\n",
        "    def __init__(self):\n",
        "        super(LargeNet, self).__init__()\n",
        "        self.name = \"large\"\n",
        "        self.conv1 = nn.Conv2d(3, 5, 5)\n",
        "        self.pool = nn.MaxPool2d(2, 2)\n",
        "        self.conv2 = nn.Conv2d(5, 10, 5)\n",
        "        self.fc1 = nn.Linear(10 * 5 * 5, 32)\n",
        "        self.fc2 = nn.Linear(32, 1)\n",
        "\n",
        "    def forward(self, x):\n",
        "        x = self.pool(F.relu(self.conv1(x)))\n",
        "        x = self.pool(F.relu(self.conv2(x)))\n",
        "        x = x.view(-1, 10 * 5 * 5)\n",
        "        x = F.relu(self.fc1(x))\n",
        "        x = self.fc2(x)\n",
        "        x = x.squeeze(1) # Flatten to [batch_size]\n",
        "        return x"
      ],
      "execution_count": 0,
      "outputs": []
    },
    {
      "cell_type": "code",
      "metadata": {
        "id": "lTjDGfLZRTRR",
        "colab_type": "code",
        "colab": {}
      },
      "source": [
        "class SmallNet(nn.Module):\n",
        "    def __init__(self):\n",
        "        super(SmallNet, self).__init__()\n",
        "        self.name = \"small\"\n",
        "        self.conv = nn.Conv2d(3, 5, 3)\n",
        "        self.pool = nn.MaxPool2d(2, 2)\n",
        "        self.fc = nn.Linear(5 * 7 * 7, 1)\n",
        "\n",
        "    def forward(self, x):\n",
        "        x = self.pool(F.relu(self.conv(x)))\n",
        "        x = self.pool(x)\n",
        "        x = x.view(-1, 5 * 7 * 7)\n",
        "        x = self.fc(x)\n",
        "        x = x.squeeze(1) # Flatten to [batch_size]\n",
        "        return x"
      ],
      "execution_count": 0,
      "outputs": []
    },
    {
      "cell_type": "code",
      "metadata": {
        "id": "aiymyZEbRWFK",
        "colab_type": "code",
        "colab": {}
      },
      "source": [
        "small_net = SmallNet()\n",
        "large_net = LargeNet()"
      ],
      "execution_count": 0,
      "outputs": []
    },
    {
      "cell_type": "markdown",
      "metadata": {
        "id": "SiUrbu-5Rau3",
        "colab_type": "text"
      },
      "source": [
        "# Part (a) -- 2pt\n",
        "The methods small_net.parameters() and large_net.parameters() produces an iterator of all the trainable parameters of the network. These parameters are torch tensors containing many scalar values.\n",
        "\n",
        "We haven't learned how the parameters in these high-dimensional tensors will be used, but we should be able to count the number of parameters. Measuring the number of parameters in a network is one way of measuring the \"size\" of a network.\n",
        "\n",
        "What is the total number of parameters in small_net and in large_net? (Hint: how many numbers are in each tensor?)\n",
        "\n",
        "(insert text cell to answer it)"
      ]
    },
    {
      "cell_type": "code",
      "metadata": {
        "id": "7Hpn4eJJRvsj",
        "colab_type": "code",
        "outputId": "6bb8ea23-a240-4c99-86a9-5dd01c7907c2",
        "colab": {
          "base_uri": "https://localhost:8080/",
          "height": 84
        }
      },
      "source": [
        "for param in small_net.parameters():\n",
        "    print(param.shape)"
      ],
      "execution_count": 0,
      "outputs": [
        {
          "output_type": "stream",
          "text": [
            "torch.Size([5, 3, 3, 3])\n",
            "torch.Size([5])\n",
            "torch.Size([1, 245])\n",
            "torch.Size([1])\n"
          ],
          "name": "stdout"
        }
      ]
    },
    {
      "cell_type": "code",
      "metadata": {
        "id": "jBjVo5wtkKym",
        "colab_type": "code",
        "outputId": "1497507a-243f-452d-e33b-57c2911b5e31",
        "colab": {
          "base_uri": "https://localhost:8080/",
          "height": 151
        }
      },
      "source": [
        "for param in large_net.parameters():\n",
        "    print(param.shape)"
      ],
      "execution_count": 0,
      "outputs": [
        {
          "output_type": "stream",
          "text": [
            "torch.Size([5, 3, 5, 5])\n",
            "torch.Size([5])\n",
            "torch.Size([10, 5, 5, 5])\n",
            "torch.Size([10])\n",
            "torch.Size([32, 250])\n",
            "torch.Size([32])\n",
            "torch.Size([1, 32])\n",
            "torch.Size([1])\n"
          ],
          "name": "stdout"
        }
      ]
    },
    {
      "cell_type": "markdown",
      "metadata": {
        "id": "W7uSJcdQfoIP",
        "colab_type": "text"
      },
      "source": [
        "## **Answer**\n",
        "\n",
        "Since each tensor is a matrix, the total number of paramaters in a matrix is then defined by the total number of elements in it. So the total number of trainable parameters is calculated as:\n",
        "\n",
        "\n",
        "**For small net:**\n",
        "```\n",
        "(5 * 3 * 3 * 3) + 5 + (1 * 245) + 1 = 386\n",
        "```\n",
        "\n",
        "**For large net:**\n",
        "```\n",
        "(5 * 3 * 5 * 5) + 5 + (10 * 5 * 5 * 5) + 10 + (32 * 250) + 32 + (1 * 32) + 1 = 9705\n",
        "```\n",
        "\n"
      ]
    },
    {
      "cell_type": "markdown",
      "metadata": {
        "id": "aZ2_UX-SR8mA",
        "colab_type": "text"
      },
      "source": [
        "# The function train_net\n",
        "\n",
        "The function train_net below takes an untrained neural network (like small_net and large_net) and several other parameters. You should be able to understand how this function works. The figure below shows the high level training loop for a machine learning model:\n",
        "\n"
      ]
    },
    {
      "cell_type": "code",
      "metadata": {
        "id": "4dw_6ukZXKAE",
        "colab_type": "code",
        "outputId": "9d43219d-9692-4bfe-9abf-6c3263346807",
        "colab": {
          "base_uri": "https://localhost:8080/",
          "height": 517
        }
      },
      "source": [
        "from IPython.display import Image\n",
        "Image('NN.png',  width=800, height=500)"
      ],
      "execution_count": 0,
      "outputs": [
        {
          "output_type": "execute_result",
          "data": {
            "image/png": "NN.png",
            "text/plain": [
              "<IPython.core.display.Image object>"
            ]
          },
          "metadata": {
            "tags": [],
            "image/png": {
              "width": 800,
              "height": 500
            }
          },
          "execution_count": 22
        }
      ]
    },
    {
      "cell_type": "code",
      "metadata": {
        "id": "Y5EkMCJ1Xzrm",
        "colab_type": "code",
        "colab": {}
      },
      "source": [
        "def train_net(net, batch_size=64, learning_rate=0.01, num_epochs=30):\n",
        "    ########################################################################\n",
        "    # Train a classifier on cats vs dogs\n",
        "    target_classes = [\"cat\", \"dog\"]\n",
        "    ########################################################################\n",
        "    # Fixed PyTorch random seed for reproducible result\n",
        "    torch.manual_seed(1000)\n",
        "    ########################################################################\n",
        "    # Obtain the PyTorch data loader objects to load batches of the datasets\n",
        "    train_loader, val_loader, test_loader, classes = get_data_loader(\n",
        "            target_classes, batch_size)\n",
        "    ########################################################################\n",
        "    # Define the Loss function and optimizer\n",
        "    # The loss function will be Binary Cross Entropy (BCE). In this case we\n",
        "    # will use the BCEWithLogitsLoss which takes unnormalized output from\n",
        "    # the neural network and scalar label.\n",
        "    # Optimizer will be SGD with Momentum.\n",
        "    criterion = nn.BCEWithLogitsLoss()\n",
        "    optimizer = optim.SGD(net.parameters(), lr=learning_rate, momentum=0.9)\n",
        "    ########################################################################\n",
        "    # Set up some numpy arrays to store the training/test loss/erruracy\n",
        "    train_err = np.zeros(num_epochs)\n",
        "    train_loss = np.zeros(num_epochs)\n",
        "    val_err = np.zeros(num_epochs)\n",
        "    val_loss = np.zeros(num_epochs)\n",
        "    ########################################################################\n",
        "    # Train the network\n",
        "    # Loop over the data iterator and sample a new batch of training data\n",
        "    # Get the output from the network, and optimize our loss function.\n",
        "    start_time = time.time()\n",
        "    for epoch in range(num_epochs):  # loop over the dataset multiple times\n",
        "        total_train_loss = 0.0\n",
        "        total_train_err = 0.0\n",
        "        total_epoch = 0\n",
        "        for i, data in enumerate(train_loader, 0):\n",
        "            # Get the inputs\n",
        "            inputs, labels = data\n",
        "            labels = normalize_label(labels) # Convert labels to 0/1\n",
        "            # Zero the parameter gradients\n",
        "            optimizer.zero_grad()\n",
        "            # Forward pass, backward pass, and optimize\n",
        "            outputs = net(inputs)\n",
        "            loss = criterion(outputs, labels.float())\n",
        "            loss.backward()\n",
        "            optimizer.step()\n",
        "            # Calculate the statistics\n",
        "            corr = (outputs > 0.0).squeeze().long() != labels\n",
        "            total_train_err += int(corr.sum())\n",
        "            total_train_loss += loss.item()\n",
        "            total_epoch += len(labels)\n",
        "        train_err[epoch] = float(total_train_err) / total_epoch\n",
        "        train_loss[epoch] = float(total_train_loss) / (i+1)\n",
        "        val_err[epoch], val_loss[epoch] = evaluate(net, val_loader, criterion)\n",
        "        print((\"Epoch {}: Train err: {}, Train loss: {} |\"+\n",
        "               \"Validation err: {}, Validation loss: {}\").format(\n",
        "                   epoch + 1,\n",
        "                   train_err[epoch],\n",
        "                   train_loss[epoch],\n",
        "                   val_err[epoch],\n",
        "                   val_loss[epoch]))\n",
        "        # Save the current model (checkpoint) to a file\n",
        "        model_path = get_model_name(net.name, batch_size, learning_rate, epoch)\n",
        "        torch.save(net.state_dict(), model_path)\n",
        "    print('Finished Training')\n",
        "    end_time = time.time()\n",
        "    elapsed_time = end_time - start_time\n",
        "    print(\"Total time elapsed: {:.2f} seconds\".format(elapsed_time))\n",
        "    # Write the train/test loss/err into CSV file for plotting later\n",
        "    epochs = np.arange(1, num_epochs + 1)\n",
        "    np.savetxt(\"{}_train_err.csv\".format(model_path), train_err)\n",
        "    np.savetxt(\"{}_train_loss.csv\".format(model_path), train_loss)\n",
        "    np.savetxt(\"{}_val_err.csv\".format(model_path), val_err)\n",
        "    np.savetxt(\"{}_val_loss.csv\".format(model_path), val_loss)"
      ],
      "execution_count": 0,
      "outputs": []
    },
    {
      "cell_type": "markdown",
      "metadata": {
        "id": "_JXzNZPdX8ph",
        "colab_type": "text"
      },
      "source": [
        "# Part (b) -- 1pt\n",
        "The parameters to the function train_net are hyperparameters of our neural network. We made these hyperparameters easy to modify so that we can tune them later on.\n",
        "\n",
        "What are the default values of the parameters batch_size, learning_rate, and num_epochs? (insert text cell/section header cell to answer)"
      ]
    },
    {
      "cell_type": "markdown",
      "metadata": {
        "id": "pMQD93UKfkmg",
        "colab_type": "text"
      },
      "source": [
        "## **Answer**\n",
        "\n",
        "\n",
        "The default parameters for **batch_size** is **64**, **learning_rate** is **0.01** and **num_epochs** is **30**"
      ]
    },
    {
      "cell_type": "markdown",
      "metadata": {
        "id": "LN2-5VjuYm35",
        "colab_type": "text"
      },
      "source": [
        "# Part (c) -- 3 pt\n",
        "What files are written to disk when we call train_net with small_net, and train for 5 epochs? Provide a list of all the files written to disk, and what information the files contain.(insert text cell/section header cell to answer)"
      ]
    },
    {
      "cell_type": "code",
      "metadata": {
        "id": "SJf3QZ70pHV9",
        "colab_type": "code",
        "outputId": "f39fca5a-3586-4543-94d4-34c7d62c590e",
        "colab": {
          "base_uri": "https://localhost:8080/",
          "height": 168
        }
      },
      "source": [
        "train_net(small_net, num_epochs=5)"
      ],
      "execution_count": 0,
      "outputs": [
        {
          "output_type": "stream",
          "text": [
            "Files already downloaded and verified\n",
            "Files already downloaded and verified\n",
            "Epoch 1: Train err: 0.428375, Train loss: 0.6731970682144165 |Validation err: 0.381, Validation loss: 0.6592803932726383\n",
            "Epoch 2: Train err: 0.375875, Train loss: 0.6517356162071228 |Validation err: 0.386, Validation loss: 0.6619974933564663\n",
            "Epoch 3: Train err: 0.368375, Train loss: 0.6442129254341126 |Validation err: 0.3525, Validation loss: 0.6349114552140236\n",
            "Epoch 4: Train err: 0.351875, Train loss: 0.6327002291679382 |Validation err: 0.3675, Validation loss: 0.6354086976498365\n",
            "Epoch 5: Train err: 0.3515, Train loss: 0.6239356470108032 |Validation err: 0.337, Validation loss: 0.6290522143244743\n",
            "Finished Training\n",
            "Total time elapsed: 18.51 seconds\n"
          ],
          "name": "stdout"
        }
      ]
    },
    {
      "cell_type": "code",
      "metadata": {
        "id": "o9WJPXMXpapO",
        "colab_type": "code",
        "outputId": "c51aac9c-c656-4644-b8aa-9b5e363d7b26",
        "colab": {
          "base_uri": "https://localhost:8080/",
          "height": 118
        }
      },
      "source": [
        "%ls"
      ],
      "execution_count": 0,
      "outputs": [
        {
          "output_type": "stream",
          "text": [
            "\u001b[0m\u001b[01;34mdata\u001b[0m/                           model_small_bs64_lr0.01_epoch4_train_err.csv\n",
            "model_small_bs64_lr0.01_epoch0  model_small_bs64_lr0.01_epoch4_train_loss.csv\n",
            "model_small_bs64_lr0.01_epoch1  model_small_bs64_lr0.01_epoch4_val_err.csv\n",
            "model_small_bs64_lr0.01_epoch2  model_small_bs64_lr0.01_epoch4_val_loss.csv\n",
            "model_small_bs64_lr0.01_epoch3  \u001b[01;34msample_data\u001b[0m/\n",
            "model_small_bs64_lr0.01_epoch4\n"
          ],
          "name": "stdout"
        }
      ]
    },
    {
      "cell_type": "code",
      "metadata": {
        "id": "bPlT84SbreS6",
        "colab_type": "code",
        "colab": {}
      },
      "source": [
        "import pandas as pd"
      ],
      "execution_count": 0,
      "outputs": []
    },
    {
      "cell_type": "code",
      "metadata": {
        "id": "TTBDHbN2rDGW",
        "colab_type": "code",
        "outputId": "fba2af69-0561-4d18-ba2c-b6f80a5ed90c",
        "colab": {
          "base_uri": "https://localhost:8080/",
          "height": 166
        }
      },
      "source": [
        "pd.read_csv('model_small_bs64_lr0.01_epoch4_train_err.csv')"
      ],
      "execution_count": 0,
      "outputs": [
        {
          "output_type": "execute_result",
          "data": {
            "text/html": [
              "<div>\n",
              "<style scoped>\n",
              "    .dataframe tbody tr th:only-of-type {\n",
              "        vertical-align: middle;\n",
              "    }\n",
              "\n",
              "    .dataframe tbody tr th {\n",
              "        vertical-align: top;\n",
              "    }\n",
              "\n",
              "    .dataframe thead th {\n",
              "        text-align: right;\n",
              "    }\n",
              "</style>\n",
              "<table border=\"1\" class=\"dataframe\">\n",
              "  <thead>\n",
              "    <tr style=\"text-align: right;\">\n",
              "      <th></th>\n",
              "      <th>4.283750000000000058e-01</th>\n",
              "    </tr>\n",
              "  </thead>\n",
              "  <tbody>\n",
              "    <tr>\n",
              "      <th>0</th>\n",
              "      <td>0.375875</td>\n",
              "    </tr>\n",
              "    <tr>\n",
              "      <th>1</th>\n",
              "      <td>0.368375</td>\n",
              "    </tr>\n",
              "    <tr>\n",
              "      <th>2</th>\n",
              "      <td>0.351875</td>\n",
              "    </tr>\n",
              "    <tr>\n",
              "      <th>3</th>\n",
              "      <td>0.351500</td>\n",
              "    </tr>\n",
              "  </tbody>\n",
              "</table>\n",
              "</div>"
            ],
            "text/plain": [
              "   4.283750000000000058e-01\n",
              "0                  0.375875\n",
              "1                  0.368375\n",
              "2                  0.351875\n",
              "3                  0.351500"
            ]
          },
          "metadata": {
            "tags": []
          },
          "execution_count": 41
        }
      ]
    },
    {
      "cell_type": "code",
      "metadata": {
        "id": "3i8zfRJ1ryub",
        "colab_type": "code",
        "outputId": "a642db51-7ef2-46aa-f0ba-091835587408",
        "colab": {
          "base_uri": "https://localhost:8080/",
          "height": 166
        }
      },
      "source": [
        "pd.read_csv('model_small_bs64_lr0.01_epoch4_train_loss.csv')"
      ],
      "execution_count": 0,
      "outputs": [
        {
          "output_type": "execute_result",
          "data": {
            "text/html": [
              "<div>\n",
              "<style scoped>\n",
              "    .dataframe tbody tr th:only-of-type {\n",
              "        vertical-align: middle;\n",
              "    }\n",
              "\n",
              "    .dataframe tbody tr th {\n",
              "        vertical-align: top;\n",
              "    }\n",
              "\n",
              "    .dataframe thead th {\n",
              "        text-align: right;\n",
              "    }\n",
              "</style>\n",
              "<table border=\"1\" class=\"dataframe\">\n",
              "  <thead>\n",
              "    <tr style=\"text-align: right;\">\n",
              "      <th></th>\n",
              "      <th>6.731970682144164941e-01</th>\n",
              "    </tr>\n",
              "  </thead>\n",
              "  <tbody>\n",
              "    <tr>\n",
              "      <th>0</th>\n",
              "      <td>0.651736</td>\n",
              "    </tr>\n",
              "    <tr>\n",
              "      <th>1</th>\n",
              "      <td>0.644213</td>\n",
              "    </tr>\n",
              "    <tr>\n",
              "      <th>2</th>\n",
              "      <td>0.632700</td>\n",
              "    </tr>\n",
              "    <tr>\n",
              "      <th>3</th>\n",
              "      <td>0.623936</td>\n",
              "    </tr>\n",
              "  </tbody>\n",
              "</table>\n",
              "</div>"
            ],
            "text/plain": [
              "   6.731970682144164941e-01\n",
              "0                  0.651736\n",
              "1                  0.644213\n",
              "2                  0.632700\n",
              "3                  0.623936"
            ]
          },
          "metadata": {
            "tags": []
          },
          "execution_count": 38
        }
      ]
    },
    {
      "cell_type": "code",
      "metadata": {
        "id": "V-XKtm-Sr3Gz",
        "colab_type": "code",
        "outputId": "f84231ee-fa97-4012-a05f-e0ab9a8cbe19",
        "colab": {
          "base_uri": "https://localhost:8080/",
          "height": 166
        }
      },
      "source": [
        "pd.read_csv('model_small_bs64_lr0.01_epoch4_val_err.csv')"
      ],
      "execution_count": 0,
      "outputs": [
        {
          "output_type": "execute_result",
          "data": {
            "text/html": [
              "<div>\n",
              "<style scoped>\n",
              "    .dataframe tbody tr th:only-of-type {\n",
              "        vertical-align: middle;\n",
              "    }\n",
              "\n",
              "    .dataframe tbody tr th {\n",
              "        vertical-align: top;\n",
              "    }\n",
              "\n",
              "    .dataframe thead th {\n",
              "        text-align: right;\n",
              "    }\n",
              "</style>\n",
              "<table border=\"1\" class=\"dataframe\">\n",
              "  <thead>\n",
              "    <tr style=\"text-align: right;\">\n",
              "      <th></th>\n",
              "      <th>3.810000000000000053e-01</th>\n",
              "    </tr>\n",
              "  </thead>\n",
              "  <tbody>\n",
              "    <tr>\n",
              "      <th>0</th>\n",
              "      <td>0.3860</td>\n",
              "    </tr>\n",
              "    <tr>\n",
              "      <th>1</th>\n",
              "      <td>0.3525</td>\n",
              "    </tr>\n",
              "    <tr>\n",
              "      <th>2</th>\n",
              "      <td>0.3675</td>\n",
              "    </tr>\n",
              "    <tr>\n",
              "      <th>3</th>\n",
              "      <td>0.3370</td>\n",
              "    </tr>\n",
              "  </tbody>\n",
              "</table>\n",
              "</div>"
            ],
            "text/plain": [
              "   3.810000000000000053e-01\n",
              "0                    0.3860\n",
              "1                    0.3525\n",
              "2                    0.3675\n",
              "3                    0.3370"
            ]
          },
          "metadata": {
            "tags": []
          },
          "execution_count": 39
        }
      ]
    },
    {
      "cell_type": "code",
      "metadata": {
        "id": "DQJmhSmor4qg",
        "colab_type": "code",
        "outputId": "0edc66a3-822f-4609-c949-e233321f37eb",
        "colab": {
          "base_uri": "https://localhost:8080/",
          "height": 166
        }
      },
      "source": [
        "pd.read_csv('model_small_bs64_lr0.01_epoch4_val_loss.csv')"
      ],
      "execution_count": 0,
      "outputs": [
        {
          "output_type": "execute_result",
          "data": {
            "text/html": [
              "<div>\n",
              "<style scoped>\n",
              "    .dataframe tbody tr th:only-of-type {\n",
              "        vertical-align: middle;\n",
              "    }\n",
              "\n",
              "    .dataframe tbody tr th {\n",
              "        vertical-align: top;\n",
              "    }\n",
              "\n",
              "    .dataframe thead th {\n",
              "        text-align: right;\n",
              "    }\n",
              "</style>\n",
              "<table border=\"1\" class=\"dataframe\">\n",
              "  <thead>\n",
              "    <tr style=\"text-align: right;\">\n",
              "      <th></th>\n",
              "      <th>6.592803932726383209e-01</th>\n",
              "    </tr>\n",
              "  </thead>\n",
              "  <tbody>\n",
              "    <tr>\n",
              "      <th>0</th>\n",
              "      <td>0.661997</td>\n",
              "    </tr>\n",
              "    <tr>\n",
              "      <th>1</th>\n",
              "      <td>0.634911</td>\n",
              "    </tr>\n",
              "    <tr>\n",
              "      <th>2</th>\n",
              "      <td>0.635409</td>\n",
              "    </tr>\n",
              "    <tr>\n",
              "      <th>3</th>\n",
              "      <td>0.629052</td>\n",
              "    </tr>\n",
              "  </tbody>\n",
              "</table>\n",
              "</div>"
            ],
            "text/plain": [
              "   6.592803932726383209e-01\n",
              "0                  0.661997\n",
              "1                  0.634911\n",
              "2                  0.635409\n",
              "3                  0.629052"
            ]
          },
          "metadata": {
            "tags": []
          },
          "execution_count": 40
        }
      ]
    },
    {
      "cell_type": "markdown",
      "metadata": {
        "id": "mrN8c8MXfjr3",
        "colab_type": "text"
      },
      "source": [
        "## **Answer**\n",
        "\n",
        "The files written are:\n",
        "```\n",
        "model_small_bs64_lr0.01_epoch0  \n",
        "model_small_bs64_lr0.01_epoch1  \n",
        "model_small_bs64_lr0.01_epoch2  \n",
        "model_small_bs64_lr0.01_epoch3  \n",
        "model_small_bs64_lr0.01_epoch4\n",
        "model_small_bs64_lr0.01_epoch4_train_loss.csv\n",
        "model_small_bs64_lr0.01_epoch4_train_err.csv\n",
        "model_small_bs64_lr0.01_epoch4_val_loss.csv\n",
        "model_small_bs64_lr0.01_epoch4_val_err.csv\n",
        "```\n",
        "\n",
        "Here, files with extension `01_epoch_` are the model generated at each epoch, since our `num_epoch` was set to 5, we have 5 files of this type i.e. 5 models ranging from 0 to 4 (`01_epoch0, 01_epoch1, 01_epoch2, 01_epoch3, 01_epoch4`).\n",
        "\n",
        "Files with `.csv` extension have the statistics of the model at each epoch.\n",
        "\n",
        "Note: As we can see in the above dataframes; we have 4 rows, with 0th index as the 2nd epoch, 1st index as 3rd epoch and so on... Since we have used a pandas dataframe to visualize the statistics, it has shown us the 1st epoch's statistics in the top row (as the label of the table).\n",
        "\n",
        "Let's see the individual files:\n",
        "\n",
        "**`model_small_bs64_lr0.01_epoch4_train_loss.csv`**:\n",
        "This file has the training loss calculated at each epoch. The loss function used over here was BCE.\n",
        "\n",
        "We can notice that in each epoch, the loss tends to decrease, which shows that the model is learning at each epoch.\n",
        "\n",
        "**`model_small_bs64_lr0.01_epoch4_train_err.csv`**:\n",
        "This file has the error calculated at each epoch while training the model.\n",
        "\n",
        "Like the loss, error is also decreasing at each epoch, major decrease has been noticed after the first epoch.\n",
        "\n",
        "**`model_small_bs64_lr0.01_epoch4_val_loss.csv`**:\n",
        "This file has the validation loss calculated at each epoch. The loss function used over here is also BCE.\n",
        "\n",
        "Similar to training loss, the loss is decreasing at each epoch.\n",
        "\n",
        "**`model_small_bs64_lr0.01_epoch4_val_err.csv`**:\n",
        "This file has the error calculated at each epoch while validating the model.\n",
        "\n",
        "Similar to training error, it is also decreasing i.e. improving at each epoch."
      ]
    },
    {
      "cell_type": "markdown",
      "metadata": {
        "id": "VaJfwfI1Y2xq",
        "colab_type": "text"
      },
      "source": [
        "# Part (d) -- 2pt\n",
        "Train both small_net and large_net using the function train_net and its default parameters. The function will write many files to disk, including a model checkpoint (saved values of model weights) at the end of each epoch.\n",
        "\n",
        "If you are using Google Colab, you will need to mount Google Drive so that the files generated by train_net gets saved. We will be using these files in part (d). (See the Google Colab tutorial for more information about this.)\n",
        "\n",
        "Report the total time elapsed when training each network. Which network took longer to train? Why?"
      ]
    },
    {
      "cell_type": "code",
      "metadata": {
        "id": "m2vF7-PGZBg0",
        "colab_type": "code",
        "outputId": "cdf78d5a-5eed-4940-ecbd-f9ba38ea6480",
        "colab": {
          "base_uri": "https://localhost:8080/",
          "height": 121
        }
      },
      "source": [
        "# Since the function writes files to disk, you will need to mount\n",
        "# your Google Drive. If you are working on the lab locally, you\n",
        "# can comment out this code.\n",
        "\n",
        "from google.colab import drive\n",
        "drive.mount('/content/gdrive')"
      ],
      "execution_count": 0,
      "outputs": [
        {
          "output_type": "stream",
          "text": [
            "Go to this URL in a browser: https://accounts.google.com/o/oauth2/auth?client_id=947318989803-6bn6qk8qdgf4n4g3pfee6491hc0brc4i.apps.googleusercontent.com&redirect_uri=urn%3Aietf%3Awg%3Aoauth%3A2.0%3Aoob&scope=email%20https%3A%2F%2Fwww.googleapis.com%2Fauth%2Fdocs.test%20https%3A%2F%2Fwww.googleapis.com%2Fauth%2Fdrive%20https%3A%2F%2Fwww.googleapis.com%2Fauth%2Fdrive.photos.readonly%20https%3A%2F%2Fwww.googleapis.com%2Fauth%2Fpeopleapi.readonly&response_type=code\n",
            "\n",
            "Enter your authorization code:\n",
            "··········\n",
            "Mounted at /content/gdrive\n"
          ],
          "name": "stdout"
        }
      ]
    },
    {
      "cell_type": "code",
      "metadata": {
        "id": "94owH7EGwg0u",
        "colab_type": "code",
        "outputId": "5ca28107-3faa-4edd-ac45-a948a55a8fa7",
        "colab": {
          "base_uri": "https://localhost:8080/",
          "height": 588
        }
      },
      "source": [
        "small_model = train_net(small_net)"
      ],
      "execution_count": 0,
      "outputs": [
        {
          "output_type": "stream",
          "text": [
            "Files already downloaded and verified\n",
            "Files already downloaded and verified\n",
            "Epoch 1: Train err: 0.292375, Train loss: 0.5728523182868958 |Validation err: 0.3195, Validation loss: 0.6138979513198137\n",
            "Epoch 2: Train err: 0.289875, Train loss: 0.5697736427783966 |Validation err: 0.3205, Validation loss: 0.6129646832123399\n",
            "Epoch 3: Train err: 0.291875, Train loss: 0.5693500998020172 |Validation err: 0.321, Validation loss: 0.608057708479464\n",
            "Epoch 4: Train err: 0.291625, Train loss: 0.5683390552997589 |Validation err: 0.3395, Validation loss: 0.6279658190906048\n",
            "Epoch 5: Train err: 0.290875, Train loss: 0.5648039560317993 |Validation err: 0.317, Validation loss: 0.6067445809021592\n",
            "Epoch 6: Train err: 0.290375, Train loss: 0.5610688302516937 |Validation err: 0.3165, Validation loss: 0.6021485812962055\n",
            "Epoch 7: Train err: 0.2885, Train loss: 0.5618875489234925 |Validation err: 0.322, Validation loss: 0.6062779109925032\n",
            "Epoch 8: Train err: 0.28775, Train loss: 0.5570655906200409 |Validation err: 0.3115, Validation loss: 0.5975503902882338\n",
            "Epoch 9: Train err: 0.2885, Train loss: 0.5609373586177826 |Validation err: 0.318, Validation loss: 0.5998577233403921\n",
            "Epoch 10: Train err: 0.28325, Train loss: 0.5547910342216492 |Validation err: 0.315, Validation loss: 0.6045761164277792\n",
            "Epoch 11: Train err: 0.28725, Train loss: 0.556344260931015 |Validation err: 0.311, Validation loss: 0.5929275918751955\n",
            "Epoch 12: Train err: 0.277875, Train loss: 0.5508907990455627 |Validation err: 0.3105, Validation loss: 0.5987211596220732\n",
            "Epoch 13: Train err: 0.288125, Train loss: 0.5579701652526855 |Validation err: 0.316, Validation loss: 0.5961103178560734\n",
            "Epoch 14: Train err: 0.280875, Train loss: 0.5488133180141449 |Validation err: 0.3175, Validation loss: 0.6022549998015165\n",
            "Epoch 15: Train err: 0.281375, Train loss: 0.5509315223693848 |Validation err: 0.3185, Validation loss: 0.5922448728233576\n",
            "Epoch 16: Train err: 0.28725, Train loss: 0.550881308555603 |Validation err: 0.32, Validation loss: 0.6011990765109658\n",
            "Epoch 17: Train err: 0.28075, Train loss: 0.5533460500240326 |Validation err: 0.314, Validation loss: 0.5850521801039577\n",
            "Epoch 18: Train err: 0.278625, Train loss: 0.5476103572845459 |Validation err: 0.3145, Validation loss: 0.5982898212969303\n",
            "Epoch 19: Train err: 0.277625, Train loss: 0.5442708523273468 |Validation err: 0.3165, Validation loss: 0.6006320333108306\n",
            "Epoch 20: Train err: 0.279125, Train loss: 0.5474445216655731 |Validation err: 0.3175, Validation loss: 0.5960785578936338\n",
            "Epoch 21: Train err: 0.282125, Train loss: 0.5481645669937134 |Validation err: 0.314, Validation loss: 0.5853012818843126\n",
            "Epoch 22: Train err: 0.279375, Train loss: 0.5477611086368561 |Validation err: 0.3215, Validation loss: 0.6114288922399282\n",
            "Epoch 23: Train err: 0.276125, Train loss: 0.5467417900562286 |Validation err: 0.3095, Validation loss: 0.5907475985586643\n",
            "Epoch 24: Train err: 0.27525, Train loss: 0.5424195017814636 |Validation err: 0.309, Validation loss: 0.5835047923028469\n",
            "Epoch 25: Train err: 0.27425, Train loss: 0.5408064863681793 |Validation err: 0.311, Validation loss: 0.5776664260774851\n",
            "Epoch 26: Train err: 0.273625, Train loss: 0.54251056265831 |Validation err: 0.3135, Validation loss: 0.5855613201856613\n",
            "Epoch 27: Train err: 0.276625, Train loss: 0.5421190056800842 |Validation err: 0.316, Validation loss: 0.5909674260765314\n",
            "Epoch 28: Train err: 0.27425, Train loss: 0.5450467164516449 |Validation err: 0.3165, Validation loss: 0.5852554775774479\n",
            "Epoch 29: Train err: 0.27675, Train loss: 0.5447320837974549 |Validation err: 0.3205, Validation loss: 0.6049908455461264\n",
            "Epoch 30: Train err: 0.27675, Train loss: 0.5451040816307068 |Validation err: 0.3135, Validation loss: 0.5841581122949719\n",
            "Finished Training\n",
            "Total time elapsed: 109.37 seconds\n"
          ],
          "name": "stdout"
        }
      ]
    },
    {
      "cell_type": "code",
      "metadata": {
        "id": "R9ZiLhqDxJkj",
        "colab_type": "code",
        "outputId": "dac81337-2d7e-4036-c404-56c49abf24c4",
        "colab": {
          "base_uri": "https://localhost:8080/",
          "height": 588
        }
      },
      "source": [
        "large_model = train_net(large_net)"
      ],
      "execution_count": 0,
      "outputs": [
        {
          "output_type": "stream",
          "text": [
            "Files already downloaded and verified\n",
            "Files already downloaded and verified\n",
            "Epoch 1: Train err: 0.461625, Train loss: 0.6903966436386109 |Validation err: 0.437, Validation loss: 0.681323129683733\n",
            "Epoch 2: Train err: 0.425, Train loss: 0.6785654692649842 |Validation err: 0.429, Validation loss: 0.6797842159867287\n",
            "Epoch 3: Train err: 0.40125, Train loss: 0.6637124691009522 |Validation err: 0.3715, Validation loss: 0.6477355845272541\n",
            "Epoch 4: Train err: 0.37025, Train loss: 0.6463582019805908 |Validation err: 0.358, Validation loss: 0.6424914449453354\n",
            "Epoch 5: Train err: 0.350375, Train loss: 0.6301157088279724 |Validation err: 0.342, Validation loss: 0.6230121813714504\n",
            "Epoch 6: Train err: 0.34075, Train loss: 0.6134181394577026 |Validation err: 0.333, Validation loss: 0.617510873824358\n",
            "Epoch 7: Train err: 0.33025, Train loss: 0.5996023733615875 |Validation err: 0.335, Validation loss: 0.6176515594124794\n",
            "Epoch 8: Train err: 0.315125, Train loss: 0.5851807940006256 |Validation err: 0.331, Validation loss: 0.5957058323547244\n",
            "Epoch 9: Train err: 0.30975, Train loss: 0.5769334056377411 |Validation err: 0.329, Validation loss: 0.5961906490847468\n",
            "Epoch 10: Train err: 0.294875, Train loss: 0.5613582415580749 |Validation err: 0.3115, Validation loss: 0.5807258700951934\n",
            "Epoch 11: Train err: 0.28, Train loss: 0.5476515076160431 |Validation err: 0.302, Validation loss: 0.5952028706669807\n",
            "Epoch 12: Train err: 0.2775, Train loss: 0.5355990040302276 |Validation err: 0.3135, Validation loss: 0.5886983470991254\n",
            "Epoch 13: Train err: 0.26775, Train loss: 0.5257372992038727 |Validation err: 0.3005, Validation loss: 0.5777817284688354\n",
            "Epoch 14: Train err: 0.254875, Train loss: 0.5121095004081726 |Validation err: 0.295, Validation loss: 0.5766986766830087\n",
            "Epoch 15: Train err: 0.251625, Train loss: 0.5039777426719666 |Validation err: 0.2905, Validation loss: 0.5656085330992937\n",
            "Epoch 16: Train err: 0.245, Train loss: 0.5015594017505646 |Validation err: 0.3005, Validation loss: 0.5754260765388608\n",
            "Epoch 17: Train err: 0.24625, Train loss: 0.49370163726806643 |Validation err: 0.288, Validation loss: 0.5725004691630602\n",
            "Epoch 18: Train err: 0.2295, Train loss: 0.4712716658115387 |Validation err: 0.2905, Validation loss: 0.5840266486629844\n",
            "Epoch 19: Train err: 0.224375, Train loss: 0.46590456819534304 |Validation err: 0.2835, Validation loss: 0.57776272110641\n",
            "Epoch 20: Train err: 0.214875, Train loss: 0.4505887904167175 |Validation err: 0.2965, Validation loss: 0.6534141544252634\n",
            "Epoch 21: Train err: 0.20975, Train loss: 0.44750873017311094 |Validation err: 0.286, Validation loss: 0.5714327404275537\n",
            "Epoch 22: Train err: 0.201, Train loss: 0.43209319138526914 |Validation err: 0.292, Validation loss: 0.6086291763931513\n",
            "Epoch 23: Train err: 0.20025, Train loss: 0.42569699335098266 |Validation err: 0.296, Validation loss: 0.5953700253739953\n",
            "Epoch 24: Train err: 0.18775, Train loss: 0.4070834856033325 |Validation err: 0.3095, Validation loss: 0.6656440999358892\n",
            "Epoch 25: Train err: 0.186, Train loss: 0.3982981597185135 |Validation err: 0.294, Validation loss: 0.6182797392830253\n",
            "Epoch 26: Train err: 0.17225, Train loss: 0.3801075170040131 |Validation err: 0.307, Validation loss: 0.6503763403743505\n",
            "Epoch 27: Train err: 0.164125, Train loss: 0.36445809638500215 |Validation err: 0.306, Validation loss: 0.6660413360223174\n",
            "Epoch 28: Train err: 0.161625, Train loss: 0.35842384791374204 |Validation err: 0.3005, Validation loss: 0.6651438008993864\n",
            "Epoch 29: Train err: 0.154125, Train loss: 0.3404876877069473 |Validation err: 0.328, Validation loss: 0.8114718701690435\n",
            "Epoch 30: Train err: 0.143875, Train loss: 0.33183892464637754 |Validation err: 0.296, Validation loss: 0.7020506896078587\n",
            "Finished Training\n",
            "Total time elapsed: 129.68 seconds\n"
          ],
          "name": "stdout"
        }
      ]
    },
    {
      "cell_type": "markdown",
      "metadata": {
        "id": "6pdZx7zIxMLc",
        "colab_type": "text"
      },
      "source": [
        "## **Answer**\n",
        "\n",
        "Total time taken by **`small_net`** was: **109.37 secs** and,\n",
        "the total time taken by **`large_net`** was: **129.68 secs**.\n",
        "\n",
        "This is due to the network complexity of the networks.\n",
        "\n",
        "To better understand, let's individually look at each network configuration:\n",
        "\n",
        "**`large_net`:**\n",
        "\n",
        "`Step 1:` \n",
        "\n",
        "2D Convolution transformation is applied on the data with ReLU (Rectified Linear Unit) as the activation function.\n",
        "Then max pooling is applied on it.\n",
        "\n",
        "This step is repeated twice with different configurations of the convolution matrix.\n",
        "\n",
        "`Step 2:`\n",
        "\n",
        "Linear transformation is applied then with ReLU as the activiation function it generates 32 features using 250 features.\n",
        "\n",
        "`Step 3:`\n",
        "\n",
        "Then finally, linear transformation is applied again with default linear activation function. It generates 1 output feature using 32 features generated from previous step.\n",
        "\n",
        "\n",
        "**`small_net`:**\n",
        "\n",
        "`Step 1:` \n",
        "\n",
        "2D Convolution transformation is applied on the data with ReLU (Rectified Linear Unit) as the activation function.\n",
        "Then max pooling is applied on it.\n",
        "\n",
        "`Step 2:`\n",
        "\n",
        "Then max pooling is applied on the resultant data from previous step.\n",
        "\n",
        "`Step 3:`\n",
        "\n",
        "Linear transformation is applied; it generates 1 feature using 245 features.\n",
        "<br><br>\n",
        "\n",
        "\n",
        "\n",
        "Clearly we can see that `large_net` is more complex as compared with `small_net`.\n",
        "<br><br>\n",
        "\n",
        "**Thus this explains the significantly greater time taken by `large_net`.**"
      ]
    },
    {
      "cell_type": "markdown",
      "metadata": {
        "id": "4g53_Uy4ZQMZ",
        "colab_type": "text"
      },
      "source": [
        "# Part (e) - 2pt\n",
        "Use the function plot_training_curve to display the trajectory of the training/validation error and the training/validation loss. You will need to use the function get_model_name to generate the argument to the plot_training_curve function.\n",
        "\n",
        "Do this for both the small network and the large network. Include both plots in your writeup. \n",
        "\n",
        "(include in your colab) you can use the following code to insert any images/plots to your colab \n",
        "\n",
        "from google.colab import files\n",
        "\n",
        "uploaded = files.upload()\n",
        "\n",
        "from IPython.display import Image \n",
        "\n",
        "Image('NN.png',  width=800, height=500)"
      ]
    },
    {
      "cell_type": "code",
      "metadata": {
        "id": "KjkAs-ZVZ9b9",
        "colab_type": "code",
        "colab": {}
      },
      "source": [
        "#model_path = get_model_name(\"small\", batch_size=??, learning_rate=??, epoch=29)"
      ],
      "execution_count": 0,
      "outputs": []
    },
    {
      "cell_type": "markdown",
      "metadata": {
        "id": "wQ4mwpGefhK4",
        "colab_type": "text"
      },
      "source": [
        ""
      ]
    },
    {
      "cell_type": "markdown",
      "metadata": {
        "id": "cnqdOTIbaeIq",
        "colab_type": "text"
      },
      "source": [
        "# Part (f) - 5pt\n",
        "Describe what you notice about the training curve. How do the curves differ for small_net and large_net? Identify any occurences of underfitting and overfitting."
      ]
    },
    {
      "cell_type": "markdown",
      "metadata": {
        "id": "WRb8zWx8fYHL",
        "colab_type": "text"
      },
      "source": [
        ""
      ]
    },
    {
      "cell_type": "markdown",
      "metadata": {
        "id": "bmT3wKXfasla",
        "colab_type": "text"
      },
      "source": [
        "# Part 3. Optimization Parameters [12 pt]\n",
        "For this section, we will work with large_net only.\n",
        "\n",
        "# Part (a) - 3pt\n",
        "Train large_net with all default parameters, except set learning_rate=0.001. Does the model take longer/shorter to train? Plot the training curve. Describe the effect of lowering the learning rate."
      ]
    },
    {
      "cell_type": "code",
      "metadata": {
        "id": "eJ1f-O7eazYB",
        "colab_type": "code",
        "colab": {}
      },
      "source": [
        "# Note: When we re-construct the model, we start the training\n",
        "# with *random weights*. If we omit this code, the values of\n",
        "# the weights will still be the previously trained values.\n",
        "large_net = LargeNet()"
      ],
      "execution_count": 0,
      "outputs": []
    },
    {
      "cell_type": "markdown",
      "metadata": {
        "id": "6_7prxOufV-3",
        "colab_type": "text"
      },
      "source": [
        ""
      ]
    },
    {
      "cell_type": "markdown",
      "metadata": {
        "id": "tS2q7hj9a7Ix",
        "colab_type": "text"
      },
      "source": [
        "# Part (b) - 3pt\n",
        "Train large_net with all default parameters, except set learning_rate=0.1. Does the model take longer/shorter to train? Plot the training curve. Describe the effect of increasing the learning rate."
      ]
    },
    {
      "cell_type": "markdown",
      "metadata": {
        "id": "2bOvwCjlfT4I",
        "colab_type": "text"
      },
      "source": [
        ""
      ]
    },
    {
      "cell_type": "markdown",
      "metadata": {
        "id": "QR2Fzqc_bYh6",
        "colab_type": "text"
      },
      "source": [
        "# Part (c) - 3pt\n",
        "Train large_net with all default parameters, including with learning_rate=0.01. Now, set batch_size=512. Does the model take longer/shorter to train? Plot the training curve. Describe the effect of increasing the batch size."
      ]
    },
    {
      "cell_type": "markdown",
      "metadata": {
        "id": "30pAmdpdfN0t",
        "colab_type": "text"
      },
      "source": [
        ""
      ]
    },
    {
      "cell_type": "markdown",
      "metadata": {
        "id": "2agAHZ43bh5K",
        "colab_type": "text"
      },
      "source": [
        "# Part (d) - 3pt\n",
        "Train large_net with all default parameters, including with learning_rate=0.01. Now, set batch_size=16. Does the model take longer/shorter to train? Plot the training curve. Describe the effect of decreasing the batch size."
      ]
    },
    {
      "cell_type": "markdown",
      "metadata": {
        "id": "gfv3qqHOfMDa",
        "colab_type": "text"
      },
      "source": [
        ""
      ]
    },
    {
      "cell_type": "markdown",
      "metadata": {
        "id": "DYGGwCLFbmri",
        "colab_type": "text"
      },
      "source": [
        "# Part 4. Hyperparameter Search [6 pt]\n",
        "# Part (a) - 2pt\n",
        "Based on the plots from above, choose another set of values for the hyperparameters (network, batch_size, learning_rate) that you think would help you improve the validation accuracy. Justify your choice."
      ]
    },
    {
      "cell_type": "markdown",
      "metadata": {
        "id": "uWtWqgUhfKz1",
        "colab_type": "text"
      },
      "source": [
        ""
      ]
    },
    {
      "cell_type": "markdown",
      "metadata": {
        "id": "cVlorF-abs4C",
        "colab_type": "text"
      },
      "source": [
        "# Part (b) - 1pt\n",
        "Train the model with the hyperparameters you chose in part(a), and include the training curve"
      ]
    },
    {
      "cell_type": "markdown",
      "metadata": {
        "id": "OxqpX8JgfD7w",
        "colab_type": "text"
      },
      "source": [
        ""
      ]
    },
    {
      "cell_type": "markdown",
      "metadata": {
        "id": "cOetF9sfbyzS",
        "colab_type": "text"
      },
      "source": [
        "# Part (c) - 2pt\n",
        "Based on your result from Part(a), suggest another set of hyperparameter values to try. Justify your choice."
      ]
    },
    {
      "cell_type": "markdown",
      "metadata": {
        "id": "zwEm4UcBe8qR",
        "colab_type": "text"
      },
      "source": [
        ""
      ]
    },
    {
      "cell_type": "markdown",
      "metadata": {
        "id": "Pry03Ug5b0zC",
        "colab_type": "text"
      },
      "source": [
        "# Part (d) - 1pt\n",
        "Train the model with the hyperparameters you chose in part(c), and include the training curve."
      ]
    },
    {
      "cell_type": "markdown",
      "metadata": {
        "id": "4YKSd2PyfAYZ",
        "colab_type": "text"
      },
      "source": [
        ""
      ]
    }
  ]
}